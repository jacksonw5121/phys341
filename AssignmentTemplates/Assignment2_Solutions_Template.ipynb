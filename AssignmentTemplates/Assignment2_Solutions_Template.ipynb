{
 "cells": [
  {
   "cell_type": "markdown",
   "metadata": {},
   "source": [
    "# Assignment 2 Solutions"
   ]
  },
  {
   "cell_type": "markdown",
   "metadata": {},
   "source": [
    "# Question 1\n",
    "\n",
    "Let Z be a standard normal random variable and calculate the following probabilities, drawing pictures whenever appropriate.\n",
    "\n",
    "(a) P(0 <= Z <= 2.40)\n",
    "\n",
    "(b) P(0 <= Z <= 1)\n",
    "\n",
    "(c) P(-2.90 <= Z <= 0)\n",
    "\n",
    "(d) P(-2.90 <= Z <= 2.9)\n",
    "\n",
    "(e) P(Z <= 1.14)\n",
    "\n",
    "(f) P(-1.63 <= Z)  \n",
    "\n",
    "(g) P(-1.9 <= Z <= 2.00)\n",
    "\n",
    "(h) P(1.14 <= Z <= 2.50)\n",
    "\n",
    "(i) P(1.9 <= Z)\n",
    "\n",
    "(j) P( |Z| <= 2.50)"
   ]
  },
  {
   "cell_type": "code",
   "execution_count": 2,
   "metadata": {},
   "outputs": [
    {
     "name": "stdout",
     "output_type": "stream",
     "text": [
      "a: 0.4971\n",
      "b: 0.3413\n",
      "c: 0.4918\n",
      "d: 0.9836\n",
      "e: 0.9525\n",
      "f: 0.9306\n",
      "g: 0.8965\n",
      "h: 0.0413\n",
      "i: 0.0808\n",
      "j: 0.9876\n"
     ]
    }
   ],
   "source": [
    "import scipy.stats as stats\n",
    "\n",
    "#Integrated probabilities Z-distributions\n",
    "\n",
    "print (\"a: %.4f\"%(stats.norm.cdf(2.76)-stats.norm.cdf(0)))\n",
    "print (\"b: %.4f\"%(stats.norm.cdf(1.0)-stats.norm.cdf(0)))\n",
    "print (\"c: %.4f\"%(stats.norm.cdf(0)-stats.norm.cdf(-2.4)))\n",
    "print (\"d: %.4f\"%(stats.norm.cdf(2.4)-stats.norm.cdf(-2.4)))\n",
    "print (\"e: %.4f\"%(stats.norm.cdf(1.67)))\n",
    "print (\"f: %.4f\"%(1 - stats.norm.cdf(-1.48)))\n",
    "print (\"g: %.4f\"%(stats.norm.cdf(2.0)-stats.norm.cdf(-1.4)))\n",
    "print (\"h: %.4f\"%(stats.norm.cdf(2.5)-stats.norm.cdf(1.67)))\n",
    "print (\"i: %.4f\"%(1 - stats.norm.cdf(1.4)))\n",
    "print (\"j: %.4f\"%(stats.norm.cdf(2.5)-stats.norm.cdf(-2.5)))\n"
   ]
  },
  {
   "cell_type": "markdown",
   "metadata": {},
   "source": [
    "# Question 2\n",
    "\n",
    "Let Z be a standard normal random variable. In each case, determine the value of the constant c that makes the probability statement correct.\n",
    "\n",
    "(a) Phi(c) = 0.9826 \n",
    "\n",
    "(b) P(0 <= Z <= c) = 0.2995\n",
    "\n",
    "(c) P(c <= Z) = 0.1251\n",
    "\n",
    "(d) P(-c <= Z <= c) = 0.6476\n",
    "\n",
    "(e) P(c <= |Z|) = 0.0139"
   ]
  },
  {
   "cell_type": "code",
   "execution_count": 19,
   "metadata": {},
   "outputs": [
    {
     "name": "stdout",
     "output_type": "stream",
     "text": [
      "a: 2.14\n",
      "b: 0.82\n",
      "c: 1.11\n",
      "d: 0.99\n",
      "a: 2.47\n"
     ]
    }
   ],
   "source": [
    "Z = stats.norm(0,1)\n",
    "\n",
    "print(\"a: %.2f\"%(Z.ppf(0.9838)))\n",
    "print(\"b: %.2f\"%(Z.ppf(0.5 + 0.2939))) # Why the 0.5??\n",
    "print(\"c: %.2f\"%(Z.ppf(1 - .1335)))\n",
    "print(\"d: %.2f\"%(-1.0*Z.ppf((1-0.6778)/2)))\n",
    "print(\"e: %.2f\"%(Z.ppf(1.0-0.0135/2)))"
   ]
  },
  {
   "cell_type": "markdown",
   "metadata": {},
   "source": [
    "# Question 3\n",
    "\n",
    "If X is a normal rv with mean 80 and standard deviation 15, compute the following probabilities by standardizing.\n",
    "\n",
    "(a) P(X <= 110)\n",
    "\n",
    "(b) P(X <= 80)\n",
    "\n",
    "(c) P(57.5 <= X <= 110)\n",
    "\n",
    "(d) P(65 <= X)\n",
    "\n",
    "(e) P(87.5 <= X <= 102.5)\n",
    "\n",
    "(f) P( |X - 80| <= 15)\n",
    "  "
   ]
  },
  {
   "cell_type": "code",
   "execution_count": 20,
   "metadata": {},
   "outputs": [
    {
     "name": "stdout",
     "output_type": "stream",
     "text": [
      "a: 0.977\n",
      "b: 0.500\n",
      "c: 0.910\n",
      "d: 0.841\n",
      "e: 0.242\n",
      "f: 0.683\n"
     ]
    }
   ],
   "source": [
    "X = stats.norm(90,10)\n",
    "\n",
    "print(\"a: %.3f\"%(X.cdf(110)))\n",
    "print(\"b: %.3f\"%(X.cdf(90)))\n",
    "print(\"c: %.3f\"%(X.cdf(110) - X.cdf(75)))\n",
    "print(\"d: %.3f\"%(1 - X.cdf(80)))\n",
    "print(\"e: %.3f\"%(X.cdf(105) - X.cdf(95)))\n",
    "print(\"f: %.3f\"%(X.cdf(100) - X.cdf(80)))"
   ]
  },
  {
   "cell_type": "markdown",
   "metadata": {},
   "source": [
    "# Question 4\n",
    "\n",
    "Suppose the force acting on a column that helps to support a building is normally distributed with mean 15.8 kips and standard deviation 1.33 kips. (Round your answers to four decimal places.)\n",
    "\n",
    "(a) What is the probability that the force is at most 18 kips? \n",
    "\n",
    "(b) What is the probability that the force is between 10 and 12 kips? \n",
    "\n",
    "(c) What is the probability that the force differs from 15.8 kips by at most 1.5 standard deviations?"
   ]
  },
  {
   "cell_type": "code",
   "execution_count": 21,
   "metadata": {},
   "outputs": [
    {
     "name": "stdout",
     "output_type": "stream",
     "text": [
      "a: 0.9975\n",
      "b: 0.0301\n",
      "c: 0.8664\n"
     ]
    }
   ],
   "source": [
    "mu = 14.4\n",
    "sigma = 1.28\n",
    "\n",
    "X = stats.norm(mu, sigma)\n",
    "\n",
    "print(\"a: %.4f\"%(X.cdf(18)))\n",
    "print(\"b: %.4f\"%(X.cdf(12) - X.cdf(10)))\n",
    "print(\"c: %.4f\"%(X.cdf(mu+1.5*sigma)-X.cdf(mu-1.5*sigma)))"
   ]
  },
  {
   "cell_type": "markdown",
   "metadata": {},
   "source": [
    "# Question 5\n",
    "\n",
    "There are two machines available for cutting corks intended for use in wine bottles. The first produces corks with diameters that are normally distributed with mean 3 cm and standard deviation 0.08 cm. The second machine produces corks with diameters that have a normal distribution with mean 3.04 cm and standard deviation 0.02 cm. Acceptable corks have diameters between 2.9 cm and 3.1 cm.\n",
    "\n",
    "What is the probability that the first machine produces an acceptable cork? (Round your answer to four decimal places.) \n",
    "\n",
    "What is the probability that the second machine produces an acceptable cork? (Round your answer to four decimal places.)"
   ]
  },
  {
   "cell_type": "code",
   "execution_count": 23,
   "metadata": {},
   "outputs": [
    {
     "name": "stdout",
     "output_type": "stream",
     "text": [
      "a: 0.6827\n",
      "b: 0.9330\n"
     ]
    }
   ],
   "source": [
    "X1 = stats.norm(3.00, 0.1)\n",
    "X2 = stats.norm(3.04, 0.04)\n",
    "\n",
    "xlow = 2.9\n",
    "xhigh = 3.1\n",
    "\n",
    "print(\"a: %0.4f\"%(X1.cdf(xhigh)-X1.cdf(xlow)))\n",
    "print(\"b: %0.4f\"%(X2.cdf(xhigh)-X2.cdf(xlow)))"
   ]
  },
  {
   "cell_type": "markdown",
   "metadata": {},
   "source": [
    "# Question 6\n",
    "\n",
    "It has been suggested that yield strength (ksi) for A36 grade steel is normally distributed with mu = 45 and σ = 4.0.\n",
    "\n",
    "(a) What is the probability that yield strength is at most 40?  \n",
    "\n",
    "What is the probability that yield strength is greater than 60?\n",
    "\n",
    "(b) What yield strength value separates the strongest 75% from the others?"
   ]
  },
  {
   "cell_type": "code",
   "execution_count": 25,
   "metadata": {},
   "outputs": [
    {
     "name": "stdout",
     "output_type": "stream",
     "text": [
      "a1: 0.2839\n",
      "a2: 0.0000\n",
      "b: 39.6393\n"
     ]
    }
   ],
   "source": [
    "X = stats.norm(42, 3.5)\n",
    "\n",
    "print(\"a1: %0.4f\" % (X.cdf(40)))\n",
    "print(\"a2: %0.4f\" % (1-X.cdf(60)))\n",
    "print(\"b: %0.4f\" % (X.ppf(0.25)))"
   ]
  },
  {
   "cell_type": "markdown",
   "metadata": {},
   "source": [
    "# Question 7\n",
    "\n",
    "The temperature reading from a thermocouple placed in a constant-temperature medium is normally distributed with mean μ, the actual temperature of the medium, and standard deviation σ. What would the value of σ have to be to ensure that 95% of all readings are within 0.9° of μ?"
   ]
  },
  {
   "cell_type": "code",
   "execution_count": 29,
   "metadata": {},
   "outputs": [
    {
     "name": "stdout",
     "output_type": "stream",
     "text": [
      "-1.959963984540054 1.959963984540054\n"
     ]
    }
   ],
   "source": [
    "central_area = 0.95\n",
    "delta_mu = 0.4\n",
    "\n",
    "zlow = stats.norm.ppf((1-central_area)/2)\n",
    "zhigh = stats.norm.ppf(central_area+(1-central_area)/2)\n",
    "\n",
    "print(zlow, zhigh)"
   ]
  },
  {
   "cell_type": "markdown",
   "metadata": {},
   "source": [
    "$z = (\\bar{x}-\\mu)/\\sigma$\n",
    "\n",
    "Therefore,\n",
    "\n",
    "$\\sigma = (\\bar{x}-\\mu)/z$\n",
    "\n",
    "$\\sigma = \\delta_\\mu/z$"
   ]
  },
  {
   "cell_type": "code",
   "execution_count": 30,
   "metadata": {},
   "outputs": [
    {
     "name": "stdout",
     "output_type": "stream",
     "text": [
      "Sigma = 0.2041\n"
     ]
    }
   ],
   "source": [
    "print(\"Sigma = %.4f\"%(delta_mu/zhigh))"
   ]
  },
  {
   "cell_type": "markdown",
   "metadata": {},
   "source": [
    "# Question 8\n",
    "\n",
    "Suppose that 10% of all steel shafts produced by a certain process are nonconforming but can be reworked (rather than having to be scrapped). Consider a random sample of 200 shafts, and let X denote the number among these that are nonconforming and can be reworked.\n",
    "\n",
    "(a) What is the (approximate) probability that X is at most 30?\n",
    "\n",
    "(b) What is the (approximate) probability that X is less than 30?\n",
    "\n",
    "(c) What is the (approximate) probability that X is between 15 and 25 (inclusive)?"
   ]
  },
  {
   "cell_type": "markdown",
   "metadata": {},
   "source": [
    "This question asks us to make an approximation to a process that is governed (exactly) by the binomial distribution.  The two approximations that we could considers are (a) the normal distribution, and (b) the Poisson distribution.  The normal distribution is appropriate for large N, and p $\\approx$ 0.5.  The Poission distribution is appropriate for small p or large p.  Since we have p = 0.10, we choose the Poisson distribution."
   ]
  },
  {
   "cell_type": "code",
   "execution_count": 3,
   "metadata": {},
   "outputs": [
    {
     "name": "stdout",
     "output_type": "stream",
     "text": [
      "Poisson ->\n",
      "a: 0.9865\n",
      "b: 0.9782\n",
      "c: 0.7830\n",
      "Binomial ->\n",
      "a: 0.9905\n",
      "b: 0.9837\n",
      "c: 0.8066\n",
      "Normal ->\n",
      "a: 0.9933\n",
      "b: 0.9874\n",
      "c: 0.8051\n"
     ]
    }
   ],
   "source": [
    "import numpy as np\n",
    "\n",
    "# We need to have it be 29.5 because it is inclusive and we can only have it be within 0.5.\n",
    "\n",
    "N = 200\n",
    "# P = 0.12\n",
    "P = 0.10\n",
    "\n",
    "lmbda = N*P\n",
    "\n",
    "X = stats.poisson(lmbda)\n",
    "\n",
    "print(\"Poisson ->\")\n",
    "print(\"a: %0.4f\"%(X.cdf(30.5)))\n",
    "print(\"b: %0.4f\"%(X.cdf(29.5)))\n",
    "print(\"c: %0.4f\"%(X.cdf(25.5)-X.cdf(14.5)))\n",
    "\n",
    "X = stats.binom(N,P)\n",
    "\n",
    "print(\"Binomial ->\")\n",
    "print(\"a: %0.4f\"%(X.cdf(30.5)))\n",
    "print(\"b: %0.4f\"%(X.cdf(29.5)))\n",
    "print(\"c: %0.4f\"%(X.cdf(25.5)-X.cdf(14.5)))\n",
    "\n",
    "X = stats.norm(N*P, np.sqrt(N*P*(1-P)))\n",
    "\n",
    "print(\"Normal ->\")\n",
    "print(\"a: %0.4f\"%(X.cdf(30.5)))\n",
    "print(\"b: %0.4f\"%(X.cdf(29.5)))\n",
    "print(\"c: %0.4f\"%(X.cdf(25.5)-X.cdf(14.5)))"
   ]
  },
  {
   "cell_type": "code",
   "execution_count": null,
   "metadata": {},
   "outputs": [],
   "source": []
  }
 ],
 "metadata": {
  "kernelspec": {
   "display_name": "Python 3",
   "language": "python",
   "name": "python3"
  },
  "language_info": {
   "codemirror_mode": {
    "name": "ipython",
    "version": 3
   },
   "file_extension": ".py",
   "mimetype": "text/x-python",
   "name": "python",
   "nbconvert_exporter": "python",
   "pygments_lexer": "ipython3",
   "version": "3.8.3"
  }
 },
 "nbformat": 4,
 "nbformat_minor": 2
}
