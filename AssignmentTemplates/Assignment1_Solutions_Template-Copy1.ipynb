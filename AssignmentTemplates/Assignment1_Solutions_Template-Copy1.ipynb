{
 "cells": [
  {
   "cell_type": "markdown",
   "metadata": {},
   "source": [
    "# Assignment 1 Solutions"
   ]
  },
  {
   "cell_type": "code",
   "execution_count": 1,
   "metadata": {},
   "outputs": [],
   "source": [
    "# Import the required packages, \n",
    "# with their conventional names \n",
    "import matplotlib.pyplot as plt \n",
    "import numpy as np \n",
    "import scipy.stats as stats"
   ]
  },
  {
   "cell_type": "markdown",
   "metadata": {},
   "source": [
    "# Question 1:  \n",
    "\n",
    "A cat is launched from the top of the Trible library with zero initial velocity, and lands, unharmed, on the ground below time later. The height of the Trible library is measured to be (21.2 +/- 0.4) m. The time is measured to be (2.04 +/- 0.05) s.\n",
    "\n",
    "(a) What is the measured value of the acceleration due to gravity, ignoring air resistance?\n",
    "\n",
    "(b) Assuming that the uncertainties quoted above follow a uniform error distribution, what is the measured uncertainty in the acceleration due to gravity?\n",
    "\n",
    "(c) Assuming that the uncertainties quoted above follow a Gaussian error distribution, what is the measured uncertainty in the acceleration due to gravity?"
   ]
  },
  {
   "cell_type": "code",
   "execution_count": null,
   "metadata": {},
   "outputs": [],
   "source": []
  },
  {
   "cell_type": "code",
   "execution_count": null,
   "metadata": {},
   "outputs": [],
   "source": []
  },
  {
   "cell_type": "code",
   "execution_count": null,
   "metadata": {},
   "outputs": [],
   "source": []
  },
  {
   "cell_type": "code",
   "execution_count": null,
   "metadata": {},
   "outputs": [],
   "source": []
  },
  {
   "cell_type": "markdown",
   "metadata": {},
   "source": [
    "# Question 2: \n",
    "\n",
    "Airlines sometimes overbook flights. Suppose that for a plane with 50 seats, 55 passengers have tickets. Define the random variable Y as the number of ticketed passengers who actually show up for the flight. The probability mass function of Y appears in the accompanying table.\n",
    "\n",
    "(a) What is the probability that the flight will accommodate all ticketed passengers who show up?\n",
    "\n",
    "(b) What is the probability that not all ticketed passengers who show up can be accommodated?\n",
    "\n",
    "(c) If you are the first person on the standby list (which means you will be the first one to get on the plane if there are any seats available after all ticketed passengers have been accommodated), what is the probability that you will be able to take the flight? \n",
    "\n",
    "What is this probability if you are the third person on the standby list?"
   ]
  },
  {
   "cell_type": "code",
   "execution_count": null,
   "metadata": {},
   "outputs": [],
   "source": []
  },
  {
   "cell_type": "code",
   "execution_count": null,
   "metadata": {},
   "outputs": [],
   "source": []
  },
  {
   "cell_type": "code",
   "execution_count": null,
   "metadata": {},
   "outputs": [],
   "source": []
  },
  {
   "cell_type": "code",
   "execution_count": null,
   "metadata": {},
   "outputs": [],
   "source": []
  },
  {
   "cell_type": "markdown",
   "metadata": {},
   "source": [
    "# Question 3: \n",
    "\n",
    "A mail-order company business has six telephone lines. Let X denote the number of lines in use at a specified time. Suppose the pmf of X is as given in the accompanying table.\n",
    "\n",
    "\n",
    "Calculate the probability of each of the following events.\n",
    "\n",
    "(a) {at most three lines are in use}\n",
    "\n",
    "(b) {fewer than three lines are in use}\n",
    "\n",
    "(c) {at least three lines are in use}\n",
    "\n",
    "(d) {between two and five lines, inclusive, are in use}\n",
    "\n",
    "(e) {between two and four lines, inclusive, are not in use}\n",
    "\n",
    "(f) {at least four lines are not in use}"
   ]
  },
  {
   "cell_type": "code",
   "execution_count": 10,
   "metadata": {},
   "outputs": [],
   "source": []
  },
  {
   "cell_type": "code",
   "execution_count": null,
   "metadata": {},
   "outputs": [],
   "source": []
  },
  {
   "cell_type": "markdown",
   "metadata": {},
   "source": [
    "# Question 4: \n",
    "\n",
    "Compute the following binomial probabilities directly from the formula for b(x; n, p).\n",
    "\n",
    "(a) b(3; 5, 0.48)\n",
    "\n",
    "(b) b(2; 7, 0.77)\n",
    "\n",
    "(c) P(3 <= X <= 5) when n = 9 and p = 0.76\n",
    "\n",
    "(d) P(1 <= X) when n = 12 and p = 0.14"
   ]
  },
  {
   "cell_type": "code",
   "execution_count": null,
   "metadata": {},
   "outputs": [],
   "source": []
  },
  {
   "cell_type": "code",
   "execution_count": null,
   "metadata": {},
   "outputs": [],
   "source": []
  },
  {
   "cell_type": "code",
   "execution_count": null,
   "metadata": {},
   "outputs": [],
   "source": []
  },
  {
   "cell_type": "code",
   "execution_count": null,
   "metadata": {},
   "outputs": [],
   "source": []
  },
  {
   "cell_type": "code",
   "execution_count": null,
   "metadata": {},
   "outputs": [],
   "source": []
  },
  {
   "cell_type": "markdown",
   "metadata": {},
   "source": [
    "# Question 5:\n",
    "\n",
    "When circuit boards used in the manufacture of compact disc players are tested, the long-run percentage of defectives is 10%. Let X = the number of defective boards in a random sample of size n = 25, so X ~ Bin(25, 0.10).\n",
    "\n",
    "(a) Determine P(X <= 2).\n",
    "\n",
    "(b) Determine P(X >= 5).\n",
    "\n",
    "(c) Determine P(1 <= X <= 4).\n",
    "\n",
    "(d) What is the probability that none of the 25 boards is defective?\n",
    "\n",
    "(e) Calculate the expected value and standard deviation of X."
   ]
  },
  {
   "cell_type": "code",
   "execution_count": null,
   "metadata": {},
   "outputs": [],
   "source": []
  },
  {
   "cell_type": "code",
   "execution_count": null,
   "metadata": {},
   "outputs": [],
   "source": []
  },
  {
   "cell_type": "code",
   "execution_count": null,
   "metadata": {},
   "outputs": [],
   "source": []
  },
  {
   "cell_type": "code",
   "execution_count": null,
   "metadata": {},
   "outputs": [],
   "source": []
  },
  {
   "cell_type": "code",
   "execution_count": null,
   "metadata": {},
   "outputs": [],
   "source": []
  },
  {
   "cell_type": "code",
   "execution_count": null,
   "metadata": {},
   "outputs": [],
   "source": []
  },
  {
   "cell_type": "code",
   "execution_count": null,
   "metadata": {},
   "outputs": [],
   "source": []
  },
  {
   "cell_type": "markdown",
   "metadata": {},
   "source": [
    "# Question 6:\n",
    "\n",
    "An airport limousine can accommodate up to four passengers on any one trip. The company will accept a maximum of six reservations for a trip, and a passenger must have a reservation. From previous records, 40% of all those making reservations do not appear for the trip. Answer the following questions, assuming independence wherever appropriate.\n",
    "\n",
    "(a) If six reservations are made, what is the probability that at least one individual with a reservation cannot be accommodated on the trip?\n",
    "\n",
    "(b) If six reservations are made, what is the expected number of available places when the limousine departs?\n",
    "Your answer is incorrect.\n",
    "\n",
    "(c) Suppose the probability distribution of the number of reservations made is given in the accompanying table.\n",
    "\n",
    "Number of reservations    \t3      4\t 5\t   6\n",
    "\n",
    "Probability\t                0.09   0.24  0.33  0.34    \n",
    "\n",
    "Let X denote the number of passengers on a randomly selected trip. Obtain the probability mass function of X."
   ]
  },
  {
   "cell_type": "code",
   "execution_count": 6,
   "metadata": {},
   "outputs": [
    {
     "ename": "NameError",
     "evalue": "name 'binom' is not defined",
     "output_type": "error",
     "traceback": [
      "\u001b[1;31m---------------------------------------------------------------------------\u001b[0m",
      "\u001b[1;31mNameError\u001b[0m                                 Traceback (most recent call last)",
      "\u001b[1;32m<ipython-input-6-e84e79d3f8b6>\u001b[0m in \u001b[0;36m<module>\u001b[1;34m\u001b[0m\n\u001b[0;32m      7\u001b[0m \u001b[1;31m#Part A\u001b[0m\u001b[1;33m\u001b[0m\u001b[1;33m\u001b[0m\u001b[1;33m\u001b[0m\u001b[0m\n\u001b[0;32m      8\u001b[0m \u001b[0mN\u001b[0m \u001b[1;33m=\u001b[0m \u001b[1;36m6\u001b[0m\u001b[1;33m\u001b[0m\u001b[1;33m\u001b[0m\u001b[0m\n\u001b[1;32m----> 9\u001b[1;33m \u001b[0mX\u001b[0m \u001b[1;33m=\u001b[0m \u001b[0mbinom\u001b[0m\u001b[1;33m(\u001b[0m\u001b[0mN\u001b[0m\u001b[1;33m,\u001b[0m \u001b[0mp\u001b[0m\u001b[1;33m)\u001b[0m\u001b[1;33m\u001b[0m\u001b[1;33m\u001b[0m\u001b[0m\n\u001b[0m\u001b[0;32m     10\u001b[0m \u001b[1;33m\u001b[0m\u001b[0m\n\u001b[0;32m     11\u001b[0m \u001b[0mprint\u001b[0m\u001b[1;33m(\u001b[0m\u001b[0mX\u001b[0m\u001b[1;33m.\u001b[0m\u001b[0mpmf\u001b[0m\u001b[1;33m(\u001b[0m\u001b[1;36m5\u001b[0m\u001b[1;33m)\u001b[0m \u001b[1;33m+\u001b[0m \u001b[0mX\u001b[0m\u001b[1;33m.\u001b[0m\u001b[0mpmf\u001b[0m\u001b[1;33m(\u001b[0m\u001b[1;36m6\u001b[0m\u001b[1;33m)\u001b[0m\u001b[1;33m)\u001b[0m \u001b[1;31m# We have a problem if either 5 or 6 people show up\u001b[0m\u001b[1;33m\u001b[0m\u001b[1;33m\u001b[0m\u001b[0m\n",
      "\u001b[1;31mNameError\u001b[0m: name 'binom' is not defined"
     ]
    }
   ],
   "source": [
    "import matplotlib.pyplot as plt \n",
    "import numpy as np \n",
    "import scipy.stats as stats\n",
    "\n",
    "p = 0.60 # probability that a reservation shows up\n",
    "\n",
    "#Part A\n",
    "N = 6\n",
    "X = binom(N, p)\n",
    "\n",
    "print(X.pmf(5) + X.pmf(6)) # We have a problem if either 5 or 6 people show up"
   ]
  },
  {
   "cell_type": "code",
   "execution_count": 29,
   "metadata": {},
   "outputs": [
    {
     "ename": "SyntaxError",
     "evalue": "invalid syntax (<ipython-input-29-72d7d3a755bc>, line 25)",
     "output_type": "error",
     "traceback": [
      "\u001b[1;36m  File \u001b[1;32m\"<ipython-input-29-72d7d3a755bc>\"\u001b[1;36m, line \u001b[1;32m25\u001b[0m\n\u001b[1;33m    print()\u001b[0m\n\u001b[1;37m    ^\u001b[0m\n\u001b[1;31mSyntaxError\u001b[0m\u001b[1;31m:\u001b[0m invalid syntax\n"
     ]
    }
   ],
   "source": [
    "import matplotlib.pyplot as plt \n",
    "import numpy as np \n",
    "import scipy.stats as stats\n",
    "\n",
    "p = 0.60 # probability that a reservation shows up\n",
    "\n",
    "#Part A\n",
    "N = 6\n",
    "X = stats.binom(N, p)\n",
    "\n",
    "print(X.pmf(5) + X.pmf(6)) # We have a problem if either 5 or 6 people show up\n",
    "\n",
    "# Create an array corresponding to the number of people that could possible show up\n",
    "npass = np.array([0,1,2,3,4,5,6])\n",
    "\n",
    "#Create an array that corresponds to the number of spcaces available for a given number of people showing up\n",
    "nspaces = np.array([4, 3, 2, 1, 0, 0, 0])\n",
    "\n",
    "sum = 0.0\n",
    "# Loop through all situations (0 to 6 people showing up)\n",
    "for i in range(len(nspaces)):\n",
    "    sum = sum + X.pmf(i)*nspaces[i]\n",
    "    print(\" No. of people showing up = %0.0f  probability = %0.4f   No. of spaces = %0.0f\" % (npass[i], i, nspaces[i])\n",
    "\n",
    "print()\n",
    "print (\"Expectation value = %0.4f\" % sum)"
   ]
  },
  {
   "cell_type": "code",
   "execution_count": 36,
   "metadata": {},
   "outputs": [
    {
     "ename": "ValueError",
     "evalue": "The truth value of an array with more than one element is ambiguous. Use a.any() or a.all()",
     "output_type": "error",
     "traceback": [
      "\u001b[1;31m---------------------------------------------------------------------------\u001b[0m",
      "\u001b[1;31mValueError\u001b[0m                                Traceback (most recent call last)",
      "\u001b[1;32m<ipython-input-36-056737b03317>\u001b[0m in \u001b[0;36m<module>\u001b[1;34m\u001b[0m\n\u001b[0;32m      6\u001b[0m     \u001b[1;32mfor\u001b[0m \u001b[0mj\u001b[0m \u001b[1;32min\u001b[0m \u001b[0mrange\u001b[0m\u001b[1;33m(\u001b[0m\u001b[0mlen\u001b[0m\u001b[1;33m(\u001b[0m\u001b[0mpres\u001b[0m\u001b[1;33m)\u001b[0m\u001b[1;33m)\u001b[0m\u001b[1;33m:\u001b[0m\u001b[1;33m\u001b[0m\u001b[1;33m\u001b[0m\u001b[0m\n\u001b[0;32m      7\u001b[0m         \u001b[0mx\u001b[0m \u001b[1;33m=\u001b[0m \u001b[0mstats\u001b[0m\u001b[1;33m.\u001b[0m\u001b[0mbinom\u001b[0m\u001b[1;33m(\u001b[0m\u001b[0mj\u001b[0m\u001b[1;33m,\u001b[0m\u001b[0mp\u001b[0m\u001b[1;33m)\u001b[0m\u001b[1;33m\u001b[0m\u001b[1;33m\u001b[0m\u001b[0m\n\u001b[1;32m----> 8\u001b[1;33m         \u001b[1;32mif\u001b[0m \u001b[1;33m(\u001b[0m\u001b[0mX\u001b[0m\u001b[1;33m.\u001b[0m\u001b[0mpmf\u001b[0m\u001b[1;33m(\u001b[0m\u001b[0mi\u001b[0m\u001b[1;33m)\u001b[0m \u001b[1;33m!=\u001b[0m \u001b[1;36m0\u001b[0m \u001b[1;32mand\u001b[0m \u001b[0mpres\u001b[0m\u001b[1;33m[\u001b[0m\u001b[0mnpass\u001b[0m\u001b[1;33m]\u001b[0m \u001b[1;33m!=\u001b[0m \u001b[1;36m0\u001b[0m\u001b[1;33m)\u001b[0m\u001b[1;33m:\u001b[0m\u001b[1;33m\u001b[0m\u001b[1;33m\u001b[0m\u001b[0m\n\u001b[0m\u001b[0;32m      9\u001b[0m             \u001b[0mprint\u001b[0m \u001b[1;33m(\u001b[0m\u001b[0mi\u001b[0m\u001b[1;33m,\u001b[0m \u001b[1;34m\"=      \"\u001b[0m\u001b[1;33m,\u001b[0m \u001b[0mj\u001b[0m\u001b[1;33m,\u001b[0m\u001b[1;33m(\u001b[0m\u001b[1;34m\"      %0.4f\"\u001b[0m \u001b[1;33m%\u001b[0m\u001b[0mX\u001b[0m\u001b[1;33m.\u001b[0m\u001b[0mpmf\u001b[0m\u001b[1;33m(\u001b[0m\u001b[0mj\u001b[0m\u001b[1;33m)\u001b[0m\u001b[1;33m)\u001b[0m\u001b[1;33m,\u001b[0m \u001b[1;34m\"      %0.0f\"\u001b[0m \u001b[1;33m%\u001b[0m\u001b[0mnpass\u001b[0m\u001b[1;33m)\u001b[0m\u001b[1;33m\u001b[0m\u001b[1;33m\u001b[0m\u001b[0m\n\u001b[0;32m     10\u001b[0m         \u001b[1;31m#\u001b[0m\u001b[1;33m\u001b[0m\u001b[1;33m\u001b[0m\u001b[1;33m\u001b[0m\u001b[0m\n",
      "\u001b[1;31mValueError\u001b[0m: The truth value of an array with more than one element is ambiguous. Use a.any() or a.all()"
     ]
    }
   ],
   "source": [
    "# create an array corresponding to the probabliites of ther ebeing 0 throw\n",
    "pres = np.array([0.00, 0.00, 0.00, 0.11, 0.18, 0.29, 0.42])\n",
    "pmf = np.array([0.0, 0.0, 0.0, 0.0, 0.0, 0.0, 0.0])\n",
    "\n",
    "for i in range(len(npass)):\n",
    "    for j in range(len(pres)):\n",
    "        x = stats.binom(j,p)\n",
    "        if (X.pmf(i) != 0 and pres[npass] != 0):\n",
    "            print (i, \"=      \", j,(\"      %0.4f\" %X.pmf(j)), \"      %0.0f\" %npass)\n",
    "        #\n",
    "        pmf[i] = pmf[i] + X.pmf(i)*pres[j]\n",
    "        \n",
    "print()\n",
    "print(pmf)\n",
    "        "
   ]
  },
  {
   "cell_type": "code",
   "execution_count": 37,
   "metadata": {},
   "outputs": [
    {
     "name": "stdout",
     "output_type": "stream",
     "text": [
      "0.0\n",
      "0.0\n",
      "0.0\n",
      "0.0\n",
      "0.0\n"
     ]
    }
   ],
   "source": [
    "print(pmf[0])\n",
    "print(pmf[1])\n",
    "print(pmf[2])\n",
    "print(pmf[3])\n",
    "print(pmf[4]+pmf[5]+pmf[6])"
   ]
  },
  {
   "cell_type": "markdown",
   "metadata": {},
   "source": [
    "# Question 7:\n",
    "\n",
    "Let X, the number of flaws on the surface of a randomly selected boiler of a certain type, have a Poisson distribution with parameter λ = 3. Compute the following probabilities.\n",
    "\n",
    "(a) P(X ≤ 8)\n",
    "\n",
    "(b) P(X = 8)\n",
    "\n",
    "(c) P(9 ≤ X)\n",
    "\n",
    "(d) P(5 ≤ X ≤ 8)\n",
    "\n",
    "(e) P(5 < X < 8)"
   ]
  },
  {
   "cell_type": "code",
   "execution_count": null,
   "metadata": {},
   "outputs": [],
   "source": []
  },
  {
   "cell_type": "code",
   "execution_count": null,
   "metadata": {},
   "outputs": [],
   "source": []
  },
  {
   "cell_type": "markdown",
   "metadata": {},
   "source": [
    "# Question 8\n",
    "\n",
    "Consider writing onto a computer disk and then sending it through a certifier that counts the number of missing pulses. Suppose this number X has a Poisson distribution with parameter λ = 0.19.\n",
    "\n",
    "(a) What is the probability that a disk has exactly one missing pulse?\n",
    "\n",
    "(b) What is the probability that a disk has at least two missing pulses?\n",
    "\n",
    "(c) If two disks are independently selected, what is the probability that neither contains a missing pulse?"
   ]
  },
  {
   "cell_type": "code",
   "execution_count": null,
   "metadata": {},
   "outputs": [],
   "source": []
  },
  {
   "cell_type": "code",
   "execution_count": null,
   "metadata": {},
   "outputs": [],
   "source": []
  },
  {
   "cell_type": "markdown",
   "metadata": {},
   "source": [
    "# Question 9\n",
    "\n",
    "In proof testing of circuit boards, the probability that any particular diode will fail is 0.01. Suppose a circuit board contains 150 diodes.\n",
    "\n",
    "(a) How many diodes would you expect to fail?\n",
    "\n",
    "What is the standard deviation of the number that are expected to fail?\n",
    "\n",
    "(b) What is the (approximate) probability that at least four diodes will fail on a randomly selected board? (Use binomial approximation.)\n",
    "\n",
    "(c) If five boards are shipped to a particular customer, how likely is it that at least four of them will work properly? (A board works properly only if all its diodes work.)"
   ]
  },
  {
   "cell_type": "code",
   "execution_count": 39,
   "metadata": {},
   "outputs": [],
   "source": [
    "N = 250\n",
    "p = 0.1\n",
    "\n",
    "lmbda = N*p\n",
    "\n",
    "X = stats.binom(N, p)\n",
    "Xp = stats.poisson(lmbda)"
   ]
  },
  {
   "cell_type": "code",
   "execution_count": 40,
   "metadata": {},
   "outputs": [
    {
     "name": "stdout",
     "output_type": "stream",
     "text": [
      "25.0 25.0\n",
      "4.743416490252569 0.0\n",
      "25.0 5.0\n"
     ]
    }
   ],
   "source": [
    "# part A\n",
    "print (N*p, X.mean())\n",
    "print (np.sqrt(N*p*(1-p)), x.std())\n",
    "\n",
    "print (Xp.mean(), Xp.std())"
   ]
  },
  {
   "cell_type": "code",
   "execution_count": 42,
   "metadata": {
    "scrolled": true
   },
   "outputs": [
    {
     "name": "stdout",
     "output_type": "stream",
     "text": [
      "0.9999999856648477\n",
      "0.9999999591324105\n"
     ]
    }
   ],
   "source": [
    "print(1 - X.cdf(3))\n",
    "\n",
    "print(1 - Xp.cdf(3))"
   ]
  },
  {
   "cell_type": "code",
   "execution_count": 44,
   "metadata": {},
   "outputs": [
    {
     "ename": "NameError",
     "evalue": "name 'binom' is not defined",
     "output_type": "error",
     "traceback": [
      "\u001b[1;31m---------------------------------------------------------------------------\u001b[0m",
      "\u001b[1;31mNameError\u001b[0m                                 Traceback (most recent call last)",
      "\u001b[1;32m<ipython-input-44-16ce088db040>\u001b[0m in \u001b[0;36m<module>\u001b[1;34m\u001b[0m\n\u001b[0;32m      1\u001b[0m \u001b[0mp_all_work\u001b[0m \u001b[1;33m=\u001b[0m \u001b[0mX\u001b[0m\u001b[1;33m.\u001b[0m\u001b[0mpmf\u001b[0m\u001b[1;33m(\u001b[0m\u001b[1;36m0\u001b[0m\u001b[1;33m)\u001b[0m\u001b[1;33m\u001b[0m\u001b[1;33m\u001b[0m\u001b[0m\n\u001b[0;32m      2\u001b[0m \u001b[1;33m\u001b[0m\u001b[0m\n\u001b[1;32m----> 3\u001b[1;33m \u001b[0mXfive\u001b[0m \u001b[1;33m=\u001b[0m \u001b[0mbinom\u001b[0m\u001b[1;33m(\u001b[0m\u001b[1;36m5\u001b[0m\u001b[1;33m,\u001b[0m \u001b[0mp_all_work\u001b[0m\u001b[1;33m)\u001b[0m\u001b[1;33m\u001b[0m\u001b[1;33m\u001b[0m\u001b[0m\n\u001b[0m\u001b[0;32m      4\u001b[0m \u001b[1;33m\u001b[0m\u001b[0m\n\u001b[0;32m      5\u001b[0m \u001b[0mprint\u001b[0m\u001b[1;33m(\u001b[0m\u001b[1;36m1\u001b[0m\u001b[1;33m-\u001b[0m\u001b[0mXfive\u001b[0m\u001b[1;33m.\u001b[0m\u001b[0mcdf\u001b[0m\u001b[1;33m(\u001b[0m\u001b[1;36m3\u001b[0m\u001b[1;33m)\u001b[0m\u001b[1;33m)\u001b[0m\u001b[1;33m\u001b[0m\u001b[1;33m\u001b[0m\u001b[0m\n",
      "\u001b[1;31mNameError\u001b[0m: name 'binom' is not defined"
     ]
    }
   ],
   "source": [
    "p_all_work = X.pmf(0)\n",
    "\n",
    "Xfive = binom(5, p_all_work)\n",
    "\n",
    "print(1-Xfive.cdf(3))\n",
    "\n",
    "p_all_work = Xp.pmf(0)\n",
    "\n",
    "xfive = binom(5, p_all_work)\n",
    "\n",
    "print(1-Xfive.cdf(3))"
   ]
  },
  {
   "cell_type": "code",
   "execution_count": null,
   "metadata": {},
   "outputs": [],
   "source": []
  },
  {
   "cell_type": "code",
   "execution_count": null,
   "metadata": {},
   "outputs": [],
   "source": []
  },
  {
   "cell_type": "code",
   "execution_count": null,
   "metadata": {},
   "outputs": [],
   "source": []
  }
 ],
 "metadata": {
  "kernelspec": {
   "display_name": "Python 3",
   "language": "python",
   "name": "python3"
  },
  "language_info": {
   "codemirror_mode": {
    "name": "ipython",
    "version": 3
   },
   "file_extension": ".py",
   "mimetype": "text/x-python",
   "name": "python",
   "nbconvert_exporter": "python",
   "pygments_lexer": "ipython3",
   "version": "3.8.3"
  }
 },
 "nbformat": 4,
 "nbformat_minor": 2
}
